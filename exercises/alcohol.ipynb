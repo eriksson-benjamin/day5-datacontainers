{
 "cells": [
  {
   "cell_type": "markdown",
   "metadata": {},
   "source": [
    "# Ex - GroupBy"
   ]
  },
  {
   "cell_type": "markdown",
   "metadata": {},
   "source": [
    "### Introduction:\n",
    "\n",
    "GroupBy can be summarizes as Split-Apply-Combine.\n",
    "\n",
    "Special thanks to: https://github.com/justmarkham for sharing the dataset and materials.\n",
    "\n",
    "Check out this [Diagram](http://i.imgur.com/yjNkiwL.png)  \n",
    "### Step 1. Import the necessary libraries"
   ]
  },
  {
   "cell_type": "code",
   "execution_count": 3,
   "metadata": {},
   "outputs": [],
   "source": [
    "import pandas as pd\n",
    "import numpy as np"
   ]
  },
  {
   "cell_type": "markdown",
   "metadata": {},
   "source": [
    "### Step 2. Import the dataset from this [address](https://raw.githubusercontent.com/justmarkham/DAT8/master/data/drinks.csv). "
   ]
  },
  {
   "cell_type": "markdown",
   "metadata": {},
   "source": [
    "### Step 3. Assign it to a variable called drinks."
   ]
  },
  {
   "cell_type": "code",
   "execution_count": 6,
   "metadata": {},
   "outputs": [],
   "source": [
    "# Added keep_default_na to stop pandas to interpret 'NA' as nan.\n",
    "drinks = pd.read_csv('https://raw.githubusercontent.com/justmarkham/DAT8/master/data/drinks.csv', keep_default_na = False)"
   ]
  },
  {
   "cell_type": "markdown",
   "metadata": {},
   "source": [
    "### Step 4. Which continent drinks more beer on average?"
   ]
  },
  {
   "cell_type": "code",
   "execution_count": 10,
   "metadata": {},
   "outputs": [
    {
     "name": "stdout",
     "output_type": "stream",
     "text": [
      "AF average beer servings: 61.47\n",
      "AS average beer servings: 37.05\n",
      "EU average beer servings: 193.78\n",
      "NA average beer servings: 145.43\n",
      "OC average beer servings: 89.69\n",
      "SA average beer servings: 175.08\n"
     ]
    }
   ],
   "source": [
    "continents = np.unique(list(drinks['continent']))\n",
    "for continent in continents:\n",
    "    subset = drinks[drinks['continent'] == continent]\n",
    "    mean = np.mean(subset['beer_servings'])\n",
    "\n",
    "    print(f'{continent} average beer servings: {mean:.2f}')"
   ]
  },
  {
   "cell_type": "markdown",
   "metadata": {},
   "source": [
    "### Step 5. For each continent print the statistics for wine consumption."
   ]
  },
  {
   "cell_type": "code",
   "execution_count": 11,
   "metadata": {},
   "outputs": [
    {
     "name": "stdout",
     "output_type": "stream",
     "text": [
      "AF average wine servings: 16.26\n",
      "AS average wine servings: 9.07\n",
      "EU average wine servings: 142.22\n",
      "NA average wine servings: 24.52\n",
      "OC average wine servings: 35.62\n",
      "SA average wine servings: 62.42\n"
     ]
    }
   ],
   "source": [
    "for continent in continents:\n",
    "    subset = drinks[drinks['continent'] == continent]\n",
    "    mean = np.mean(subset['wine_servings'])\n",
    "\n",
    "    print(f'{continent} average wine servings: {mean:.2f}')"
   ]
  },
  {
   "cell_type": "markdown",
   "metadata": {},
   "source": [
    "### Step 6. Print the mean alcoohol consumption per continent for every column"
   ]
  },
  {
   "cell_type": "code",
   "execution_count": 16,
   "metadata": {},
   "outputs": [
    {
     "name": "stdout",
     "output_type": "stream",
     "text": [
      "\n",
      "AF average servings\n",
      "--------------\n",
      "wine_servings      16.264151\n",
      "beer_servings      61.471698\n",
      "spirit_servings    16.339623\n",
      "dtype: float64\n",
      "\n",
      "AS average servings\n",
      "--------------\n",
      "wine_servings       9.068182\n",
      "beer_servings      37.045455\n",
      "spirit_servings    60.840909\n",
      "dtype: float64\n",
      "\n",
      "EU average servings\n",
      "--------------\n",
      "wine_servings      142.222222\n",
      "beer_servings      193.777778\n",
      "spirit_servings    132.555556\n",
      "dtype: float64\n",
      "\n",
      "NA average servings\n",
      "--------------\n",
      "wine_servings       24.521739\n",
      "beer_servings      145.434783\n",
      "spirit_servings    165.739130\n",
      "dtype: float64\n",
      "\n",
      "OC average servings\n",
      "--------------\n",
      "wine_servings      35.6250\n",
      "beer_servings      89.6875\n",
      "spirit_servings    58.4375\n",
      "dtype: float64\n",
      "\n",
      "SA average servings\n",
      "--------------\n",
      "wine_servings       62.416667\n",
      "beer_servings      175.083333\n",
      "spirit_servings    114.750000\n",
      "dtype: float64\n"
     ]
    }
   ],
   "source": [
    "for continent in continents:\n",
    "    subset = drinks[drinks['continent'] == continent]\n",
    "    mean = subset[['wine_servings', 'beer_servings', 'spirit_servings']].mean()\n",
    "    \n",
    "    print(f'\\n{continent} average servings')\n",
    "    print('--------------')\n",
    "    print(mean)\n",
    "    "
   ]
  },
  {
   "cell_type": "markdown",
   "metadata": {},
   "source": [
    "### Step 7. Print the median alcoohol consumption per continent for every column"
   ]
  },
  {
   "cell_type": "code",
   "execution_count": 25,
   "metadata": {},
   "outputs": [
    {
     "name": "stdout",
     "output_type": "stream",
     "text": [
      "\n",
      "AF median values\n",
      "--------------\n",
      "wine_servings                    2.0\n",
      "beer_servings                   32.0\n",
      "spirit_servings                  3.0\n",
      "total_litres_of_pure_alcohol     2.3\n",
      "dtype: float64\n",
      "\n",
      "AS median values\n",
      "--------------\n",
      "wine_servings                    1.0\n",
      "beer_servings                   17.5\n",
      "spirit_servings                 16.0\n",
      "total_litres_of_pure_alcohol     1.2\n",
      "dtype: float64\n",
      "\n",
      "EU median values\n",
      "--------------\n",
      "wine_servings                   128.0\n",
      "beer_servings                   219.0\n",
      "spirit_servings                 122.0\n",
      "total_litres_of_pure_alcohol     10.0\n",
      "dtype: float64\n",
      "\n",
      "NA median values\n",
      "--------------\n",
      "wine_servings                    11.0\n",
      "beer_servings                   143.0\n",
      "spirit_servings                 137.0\n",
      "total_litres_of_pure_alcohol      6.3\n",
      "dtype: float64\n",
      "\n",
      "OC median values\n",
      "--------------\n",
      "wine_servings                    8.50\n",
      "beer_servings                   52.50\n",
      "spirit_servings                 37.00\n",
      "total_litres_of_pure_alcohol     1.75\n",
      "dtype: float64\n",
      "\n",
      "SA median values\n",
      "--------------\n",
      "wine_servings                    12.00\n",
      "beer_servings                   162.50\n",
      "spirit_servings                 108.50\n",
      "total_litres_of_pure_alcohol      6.85\n",
      "dtype: float64\n"
     ]
    }
   ],
   "source": [
    "for continent in continents:\n",
    "    subset = drinks[drinks['continent'] == continent]\n",
    "    median = subset[['wine_servings', 'beer_servings', 'spirit_servings', 'total_litres_of_pure_alcohol']].median()\n",
    "    \n",
    "    print(f'\\n{continent} median values')\n",
    "    print('--------------')\n",
    "    print(median)"
   ]
  },
  {
   "cell_type": "markdown",
   "metadata": {},
   "source": [
    "### Step 8. Print the mean, min and max values for spirit consumption.\n",
    "#### This time output a DataFrame"
   ]
  },
  {
   "cell_type": "code",
   "execution_count": 23,
   "metadata": {},
   "outputs": [
    {
     "name": "stdout",
     "output_type": "stream",
     "text": [
      "Max: 438\n",
      "Min: 0\n",
      "Mean: 80.99481865284974\n"
     ]
    }
   ],
   "source": [
    "print(f\"Max: {drinks['spirit_servings'].max()}\")\n",
    "print(f\"Min: {drinks['spirit_servings'].min()}\")\n",
    "print(f\"Mean: {drinks['spirit_servings'].mean()}\")"
   ]
  }
 ],
 "metadata": {
  "kernelspec": {
   "display_name": "Python 3",
   "language": "python",
   "name": "python3"
  },
  "language_info": {
   "codemirror_mode": {
    "name": "ipython",
    "version": 3
   },
   "file_extension": ".py",
   "mimetype": "text/x-python",
   "name": "python",
   "nbconvert_exporter": "python",
   "pygments_lexer": "ipython3",
   "version": "3.8.3"
  }
 },
 "nbformat": 4,
 "nbformat_minor": 1
}
